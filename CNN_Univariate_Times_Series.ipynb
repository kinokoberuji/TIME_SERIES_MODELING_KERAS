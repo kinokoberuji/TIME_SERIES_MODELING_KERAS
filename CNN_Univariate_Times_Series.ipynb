{
 "cells": [
  {
   "cell_type": "code",
   "execution_count": 2,
   "metadata": {},
   "outputs": [],
   "source": [
    "import numpy as np\n",
    "import pandas as pd\n",
    "import matplotlib.pyplot as plt\n",
    "%matplotlib inline\n",
    "import time\n",
    "import quandl\n",
    "import datetime\n",
    "from sklearn.preprocessing import  MinMaxScaler, StandardScaler\n",
    "from sklearn.model_selection import train_test_split\n",
    "\n",
    "# univariate mlp example\n",
    "from numpy import array\n",
    "from keras.models import Sequential\n",
    "from keras.layers import Dense\n",
    "from keras.layers import Flatten\n",
    "from keras.layers.convolutional import Conv1D\n",
    "from keras.layers.convolutional import MaxPooling1D\n",
    "\n",
    "import pickle\n",
    "\n",
    "from IPython.display import SVG\n",
    "from keras.utils.vis_utils import model_to_dot"
   ]
  },
  {
   "cell_type": "code",
   "execution_count": 59,
   "metadata": {},
   "outputs": [],
   "source": [
    "# split a univariate sequence into samples\n",
    "def split_sequence(sequence, n_steps):\n",
    "    X, y = list(), list()\n",
    "    for i in range(len(sequence)):\n",
    "        # find the end of this pattern\n",
    "        end_ix = i + n_steps\n",
    "        # check if we are beyond the sequence\n",
    "        if end_ix > len(sequence)-1:\n",
    "            break\n",
    "        # gather input and output parts of the pattern\n",
    "        seq_x, seq_y = sequence[i:end_ix], sequence[end_ix]\n",
    "        X.append(seq_x)\n",
    "        y.append(seq_y)\n",
    "    return array(X), array(y)"
   ]
  },
  {
   "cell_type": "code",
   "execution_count": 60,
   "metadata": {},
   "outputs": [],
   "source": [
    "quandl.connection.ApiConfig.api_key= \"_N85bWLCNCWz14smKHSi\""
   ]
  },
  {
   "cell_type": "code",
   "execution_count": 61,
   "metadata": {},
   "outputs": [],
   "source": [
    "start = datetime.datetime(2012, 1, 1)\n",
    "end = datetime.datetime(2018, 1, 1)\n",
    "Apple = quandl.get('WIKI/AAPL',start_date=start,end_date=end)"
   ]
  },
  {
   "cell_type": "code",
   "execution_count": 62,
   "metadata": {},
   "outputs": [
    {
     "data": {
      "text/html": [
       "<div>\n",
       "<style scoped>\n",
       "    .dataframe tbody tr th:only-of-type {\n",
       "        vertical-align: middle;\n",
       "    }\n",
       "\n",
       "    .dataframe tbody tr th {\n",
       "        vertical-align: top;\n",
       "    }\n",
       "\n",
       "    .dataframe thead th {\n",
       "        text-align: right;\n",
       "    }\n",
       "</style>\n",
       "<table border=\"1\" class=\"dataframe\">\n",
       "  <thead>\n",
       "    <tr style=\"text-align: right;\">\n",
       "      <th></th>\n",
       "      <th>Open</th>\n",
       "      <th>High</th>\n",
       "      <th>Low</th>\n",
       "      <th>Close</th>\n",
       "      <th>Volume</th>\n",
       "      <th>Ex-Dividend</th>\n",
       "      <th>Split Ratio</th>\n",
       "      <th>Adj. Open</th>\n",
       "      <th>Adj. High</th>\n",
       "      <th>Adj. Low</th>\n",
       "      <th>Adj. Close</th>\n",
       "      <th>Adj. Volume</th>\n",
       "    </tr>\n",
       "    <tr>\n",
       "      <th>Date</th>\n",
       "      <th></th>\n",
       "      <th></th>\n",
       "      <th></th>\n",
       "      <th></th>\n",
       "      <th></th>\n",
       "      <th></th>\n",
       "      <th></th>\n",
       "      <th></th>\n",
       "      <th></th>\n",
       "      <th></th>\n",
       "      <th></th>\n",
       "      <th></th>\n",
       "    </tr>\n",
       "  </thead>\n",
       "  <tbody>\n",
       "    <tr>\n",
       "      <th>2012-01-03</th>\n",
       "      <td>409.4</td>\n",
       "      <td>412.50</td>\n",
       "      <td>409.00</td>\n",
       "      <td>411.23</td>\n",
       "      <td>10793600.0</td>\n",
       "      <td>0.0</td>\n",
       "      <td>1.0</td>\n",
       "      <td>52.613606</td>\n",
       "      <td>53.011999</td>\n",
       "      <td>52.562200</td>\n",
       "      <td>52.848787</td>\n",
       "      <td>75555200.0</td>\n",
       "    </tr>\n",
       "    <tr>\n",
       "      <th>2012-01-04</th>\n",
       "      <td>410.0</td>\n",
       "      <td>414.68</td>\n",
       "      <td>409.28</td>\n",
       "      <td>413.44</td>\n",
       "      <td>9286500.0</td>\n",
       "      <td>0.0</td>\n",
       "      <td>1.0</td>\n",
       "      <td>52.690714</td>\n",
       "      <td>53.292160</td>\n",
       "      <td>52.598184</td>\n",
       "      <td>53.132802</td>\n",
       "      <td>65005500.0</td>\n",
       "    </tr>\n",
       "  </tbody>\n",
       "</table>\n",
       "</div>"
      ],
      "text/plain": [
       "             Open    High     Low   Close      Volume  Ex-Dividend  \\\n",
       "Date                                                                 \n",
       "2012-01-03  409.4  412.50  409.00  411.23  10793600.0          0.0   \n",
       "2012-01-04  410.0  414.68  409.28  413.44   9286500.0          0.0   \n",
       "\n",
       "            Split Ratio  Adj. Open  Adj. High   Adj. Low  Adj. Close  \\\n",
       "Date                                                                   \n",
       "2012-01-03          1.0  52.613606  53.011999  52.562200   52.848787   \n",
       "2012-01-04          1.0  52.690714  53.292160  52.598184   53.132802   \n",
       "\n",
       "            Adj. Volume  \n",
       "Date                     \n",
       "2012-01-03   75555200.0  \n",
       "2012-01-04   65005500.0  "
      ]
     },
     "execution_count": 62,
     "metadata": {},
     "output_type": "execute_result"
    }
   ],
   "source": [
    "Apple.head(2)"
   ]
  },
  {
   "cell_type": "code",
   "execution_count": 63,
   "metadata": {},
   "outputs": [],
   "source": [
    "raw_seq=Apple['Adj. Close'].values"
   ]
  },
  {
   "cell_type": "code",
   "execution_count": 64,
   "metadata": {},
   "outputs": [
    {
     "data": {
      "text/plain": [
       "(1507,)"
      ]
     },
     "execution_count": 64,
     "metadata": {},
     "output_type": "execute_result"
    }
   ],
   "source": [
    "raw_seq.shape"
   ]
  },
  {
   "cell_type": "code",
   "execution_count": 65,
   "metadata": {},
   "outputs": [],
   "source": [
    "n_steps = 5\n",
    "# split into samples\n",
    "X, y = split_sequence(raw_seq, n_steps)"
   ]
  },
  {
   "cell_type": "code",
   "execution_count": 66,
   "metadata": {},
   "outputs": [],
   "source": [
    "n_features = 1\n",
    "X = X.reshape((X.shape[0], X.shape[1], n_features))"
   ]
  },
  {
   "cell_type": "code",
   "execution_count": 67,
   "metadata": {},
   "outputs": [
    {
     "data": {
      "text/plain": [
       "((1502, 5, 1), (1502,))"
      ]
     },
     "execution_count": 67,
     "metadata": {},
     "output_type": "execute_result"
    }
   ],
   "source": [
    "X.shape, y.shape"
   ]
  },
  {
   "cell_type": "code",
   "execution_count": 68,
   "metadata": {},
   "outputs": [],
   "source": [
    "# define model\n",
    "model = Sequential()\n",
    "model.add(Conv1D(filters=64, kernel_size=2, activation='relu', input_shape=(n_steps, n_features)))\n",
    "model.add(MaxPooling1D(pool_size=2))\n",
    "model.add(Flatten())\n",
    "model.add(Dense(50, activation='relu'))\n",
    "model.add(Dense(1))\n",
    "model.compile(optimizer='adam', loss='mse')"
   ]
  },
  {
   "cell_type": "code",
   "execution_count": 69,
   "metadata": {},
   "outputs": [
    {
     "data": {
      "image/svg+xml": [
       "<svg height=\"410pt\" viewBox=\"0.00 0.00 217.00 410.00\" width=\"217pt\" xmlns=\"http://www.w3.org/2000/svg\" xmlns:xlink=\"http://www.w3.org/1999/xlink\">\n",
       "<g class=\"graph\" id=\"graph0\" transform=\"scale(1 1) rotate(0) translate(4 406)\">\n",
       "<title>G</title>\n",
       "<polygon fill=\"white\" points=\"-4,4 -4,-406 213,-406 213,4 -4,4\" stroke=\"none\"/>\n",
       "<!-- 2808171259216 -->\n",
       "<g class=\"node\" id=\"node1\"><title>2808171259216</title>\n",
       "<polygon fill=\"none\" points=\"41,-292.5 41,-328.5 168,-328.5 168,-292.5 41,-292.5\" stroke=\"black\"/>\n",
       "<text font-family=\"Times New Roman,serif\" font-size=\"14.00\" text-anchor=\"middle\" x=\"104.5\" y=\"-306.8\">conv1d_2: Conv1D</text>\n",
       "</g>\n",
       "<!-- 2808171650240 -->\n",
       "<g class=\"node\" id=\"node2\"><title>2808171650240</title>\n",
       "<polygon fill=\"none\" points=\"0,-219.5 0,-255.5 209,-255.5 209,-219.5 0,-219.5\" stroke=\"black\"/>\n",
       "<text font-family=\"Times New Roman,serif\" font-size=\"14.00\" text-anchor=\"middle\" x=\"104.5\" y=\"-233.8\">max_pooling1d_2: MaxPooling1D</text>\n",
       "</g>\n",
       "<!-- 2808171259216&#45;&gt;2808171650240 -->\n",
       "<g class=\"edge\" id=\"edge2\"><title>2808171259216-&gt;2808171650240</title>\n",
       "<path d=\"M104.5,-292.313C104.5,-284.289 104.5,-274.547 104.5,-265.569\" fill=\"none\" stroke=\"black\"/>\n",
       "<polygon fill=\"black\" points=\"108,-265.529 104.5,-255.529 101,-265.529 108,-265.529\" stroke=\"black\"/>\n",
       "</g>\n",
       "<!-- 2808171258544 -->\n",
       "<g class=\"node\" id=\"node3\"><title>2808171258544</title>\n",
       "<polygon fill=\"none\" points=\"50,-146.5 50,-182.5 159,-182.5 159,-146.5 50,-146.5\" stroke=\"black\"/>\n",
       "<text font-family=\"Times New Roman,serif\" font-size=\"14.00\" text-anchor=\"middle\" x=\"104.5\" y=\"-160.8\">flatten_2: Flatten</text>\n",
       "</g>\n",
       "<!-- 2808171650240&#45;&gt;2808171258544 -->\n",
       "<g class=\"edge\" id=\"edge3\"><title>2808171650240-&gt;2808171258544</title>\n",
       "<path d=\"M104.5,-219.313C104.5,-211.289 104.5,-201.547 104.5,-192.569\" fill=\"none\" stroke=\"black\"/>\n",
       "<polygon fill=\"black\" points=\"108,-192.529 104.5,-182.529 101,-192.529 108,-192.529\" stroke=\"black\"/>\n",
       "</g>\n",
       "<!-- 2808171261680 -->\n",
       "<g class=\"node\" id=\"node4\"><title>2808171261680</title>\n",
       "<polygon fill=\"none\" points=\"52.5,-73.5 52.5,-109.5 156.5,-109.5 156.5,-73.5 52.5,-73.5\" stroke=\"black\"/>\n",
       "<text font-family=\"Times New Roman,serif\" font-size=\"14.00\" text-anchor=\"middle\" x=\"104.5\" y=\"-87.8\">dense_3: Dense</text>\n",
       "</g>\n",
       "<!-- 2808171258544&#45;&gt;2808171261680 -->\n",
       "<g class=\"edge\" id=\"edge4\"><title>2808171258544-&gt;2808171261680</title>\n",
       "<path d=\"M104.5,-146.313C104.5,-138.289 104.5,-128.547 104.5,-119.569\" fill=\"none\" stroke=\"black\"/>\n",
       "<polygon fill=\"black\" points=\"108,-119.529 104.5,-109.529 101,-119.529 108,-119.529\" stroke=\"black\"/>\n",
       "</g>\n",
       "<!-- 2808168133912 -->\n",
       "<g class=\"node\" id=\"node5\"><title>2808168133912</title>\n",
       "<polygon fill=\"none\" points=\"52.5,-0.5 52.5,-36.5 156.5,-36.5 156.5,-0.5 52.5,-0.5\" stroke=\"black\"/>\n",
       "<text font-family=\"Times New Roman,serif\" font-size=\"14.00\" text-anchor=\"middle\" x=\"104.5\" y=\"-14.8\">dense_4: Dense</text>\n",
       "</g>\n",
       "<!-- 2808171261680&#45;&gt;2808168133912 -->\n",
       "<g class=\"edge\" id=\"edge5\"><title>2808171261680-&gt;2808168133912</title>\n",
       "<path d=\"M104.5,-73.3129C104.5,-65.2895 104.5,-55.5475 104.5,-46.5691\" fill=\"none\" stroke=\"black\"/>\n",
       "<polygon fill=\"black\" points=\"108,-46.5288 104.5,-36.5288 101,-46.5289 108,-46.5288\" stroke=\"black\"/>\n",
       "</g>\n",
       "<!-- 2808171259328 -->\n",
       "<g class=\"node\" id=\"node6\"><title>2808171259328</title>\n",
       "<polygon fill=\"none\" points=\"52.5,-365.5 52.5,-401.5 156.5,-401.5 156.5,-365.5 52.5,-365.5\" stroke=\"black\"/>\n",
       "<text font-family=\"Times New Roman,serif\" font-size=\"14.00\" text-anchor=\"middle\" x=\"104.5\" y=\"-379.8\">2808171259328</text>\n",
       "</g>\n",
       "<!-- 2808171259328&#45;&gt;2808171259216 -->\n",
       "<g class=\"edge\" id=\"edge1\"><title>2808171259328-&gt;2808171259216</title>\n",
       "<path d=\"M104.5,-365.313C104.5,-357.289 104.5,-347.547 104.5,-338.569\" fill=\"none\" stroke=\"black\"/>\n",
       "<polygon fill=\"black\" points=\"108,-338.529 104.5,-328.529 101,-338.529 108,-338.529\" stroke=\"black\"/>\n",
       "</g>\n",
       "</g>\n",
       "</svg>"
      ],
      "text/plain": [
       "<IPython.core.display.SVG object>"
      ]
     },
     "execution_count": 69,
     "metadata": {},
     "output_type": "execute_result"
    }
   ],
   "source": [
    "SVG(model_to_dot(model).create(prog='dot', format='svg'))"
   ]
  },
  {
   "cell_type": "code",
   "execution_count": 70,
   "metadata": {},
   "outputs": [
    {
     "name": "stdout",
     "output_type": "stream",
     "text": [
      "_________________________________________________________________\n",
      "Layer (type)                 Output Shape              Param #   \n",
      "=================================================================\n",
      "conv1d_2 (Conv1D)            (None, 4, 64)             192       \n",
      "_________________________________________________________________\n",
      "max_pooling1d_2 (MaxPooling1 (None, 2, 64)             0         \n",
      "_________________________________________________________________\n",
      "flatten_2 (Flatten)          (None, 128)               0         \n",
      "_________________________________________________________________\n",
      "dense_3 (Dense)              (None, 50)                6450      \n",
      "_________________________________________________________________\n",
      "dense_4 (Dense)              (None, 1)                 51        \n",
      "=================================================================\n",
      "Total params: 6,693\n",
      "Trainable params: 6,693\n",
      "Non-trainable params: 0\n",
      "_________________________________________________________________\n"
     ]
    }
   ],
   "source": [
    "model.summary()"
   ]
  },
  {
   "cell_type": "code",
   "execution_count": 71,
   "metadata": {},
   "outputs": [],
   "source": [
    "train_size = int(len(X) * 0.80)\n",
    "X_train, X_test = X[0:train_size], X[train_size:len(X)]\n",
    "y_train, y_test = y[0:train_size], y[train_size:len(X)]"
   ]
  },
  {
   "cell_type": "code",
   "execution_count": 72,
   "metadata": {},
   "outputs": [
    {
     "name": "stdout",
     "output_type": "stream",
     "text": [
      "Train on 1020 samples, validate on 181 samples\n",
      "Epoch 1/200\n",
      " - 0s - loss: 627.0160 - val_loss: 27.7424\n",
      "Epoch 2/200\n",
      " - 0s - loss: 24.0655 - val_loss: 5.1441\n",
      "Epoch 3/200\n",
      " - 0s - loss: 5.4059 - val_loss: 4.7353\n",
      "Epoch 4/200\n",
      " - 0s - loss: 4.6566 - val_loss: 5.5282\n",
      "Epoch 5/200\n",
      " - 0s - loss: 4.5208 - val_loss: 6.2730\n",
      "Epoch 6/200\n",
      " - 0s - loss: 4.4397 - val_loss: 6.6327\n",
      "Epoch 7/200\n",
      " - 0s - loss: 4.3741 - val_loss: 6.7438\n",
      "Epoch 8/200\n",
      " - 0s - loss: 4.3294 - val_loss: 6.8012\n",
      "Epoch 9/200\n",
      " - 0s - loss: 4.3012 - val_loss: 6.8497\n",
      "Epoch 10/200\n",
      " - 0s - loss: 4.2821 - val_loss: 6.8936\n",
      "Epoch 11/200\n",
      " - 0s - loss: 4.2685 - val_loss: 6.9341\n",
      "Epoch 12/200\n",
      " - 0s - loss: 4.2582 - val_loss: 6.9840\n",
      "Epoch 13/200\n",
      " - 0s - loss: 4.2510 - val_loss: 7.0361\n",
      "Epoch 14/200\n",
      " - 0s - loss: 4.2456 - val_loss: 7.0917\n",
      "Epoch 15/200\n",
      " - 0s - loss: 4.2418 - val_loss: 7.1477\n",
      "Epoch 16/200\n",
      " - 0s - loss: 4.2393 - val_loss: 7.2023\n",
      "Epoch 17/200\n",
      " - 0s - loss: 4.2378 - val_loss: 7.2579\n",
      "Epoch 18/200\n",
      " - 0s - loss: 4.2375 - val_loss: 7.2911\n",
      "Epoch 19/200\n",
      " - 0s - loss: 4.2374 - val_loss: 7.3129\n",
      "Epoch 20/200\n",
      " - 0s - loss: 4.2382 - val_loss: 7.3101\n",
      "Epoch 21/200\n",
      " - 0s - loss: 4.2396 - val_loss: 7.2735\n",
      "Epoch 22/200\n",
      " - 0s - loss: 4.2414 - val_loss: 7.1975\n",
      "Epoch 23/200\n",
      " - 0s - loss: 4.2435 - val_loss: 7.0761\n",
      "Epoch 24/200\n",
      " - 0s - loss: 4.2456 - val_loss: 6.9097\n",
      "Epoch 25/200\n",
      " - 0s - loss: 4.2472 - val_loss: 6.7039\n",
      "Epoch 26/200\n",
      " - 0s - loss: 4.2471 - val_loss: 6.4733\n",
      "Epoch 27/200\n",
      " - 0s - loss: 4.2447 - val_loss: 6.2391\n",
      "Epoch 28/200\n",
      " - 0s - loss: 4.2386 - val_loss: 6.0034\n",
      "Epoch 29/200\n",
      " - 0s - loss: 4.2268 - val_loss: 5.7990\n",
      "Epoch 30/200\n",
      " - 0s - loss: 4.2103 - val_loss: 5.6351\n",
      "Epoch 31/200\n",
      " - 0s - loss: 4.1900 - val_loss: 5.5003\n",
      "Epoch 32/200\n",
      " - 0s - loss: 4.1658 - val_loss: 5.4074\n",
      "Epoch 33/200\n",
      " - 0s - loss: 4.1411 - val_loss: 5.3503\n",
      "Epoch 34/200\n",
      " - 0s - loss: 4.1178 - val_loss: 5.3102\n",
      "Epoch 35/200\n",
      " - 0s - loss: 4.0952 - val_loss: 5.2947\n",
      "Epoch 36/200\n",
      " - 0s - loss: 4.0754 - val_loss: 5.2944\n",
      "Epoch 37/200\n",
      " - 0s - loss: 4.0583 - val_loss: 5.3101\n",
      "Epoch 38/200\n",
      " - 0s - loss: 4.0443 - val_loss: 5.3289\n",
      "Epoch 39/200\n",
      " - 0s - loss: 4.0314 - val_loss: 5.3615\n",
      "Epoch 40/200\n",
      " - 0s - loss: 4.0216 - val_loss: 5.4017\n",
      "Epoch 41/200\n",
      " - 0s - loss: 4.0140 - val_loss: 5.4500\n",
      "Epoch 42/200\n",
      " - 0s - loss: 4.0083 - val_loss: 5.5095\n",
      "Epoch 43/200\n",
      " - 0s - loss: 4.0056 - val_loss: 5.5705\n",
      "Epoch 44/200\n",
      " - 0s - loss: 4.0036 - val_loss: 5.6432\n",
      "Epoch 45/200\n",
      " - 0s - loss: 4.0044 - val_loss: 5.7245\n",
      "Epoch 46/200\n",
      " - 0s - loss: 4.0073 - val_loss: 5.8147\n",
      "Epoch 47/200\n",
      " - 0s - loss: 4.0122 - val_loss: 5.9185\n",
      "Epoch 48/200\n",
      " - 0s - loss: 4.0202 - val_loss: 6.0254\n",
      "Epoch 49/200\n",
      " - 0s - loss: 4.0288 - val_loss: 6.1432\n",
      "Epoch 50/200\n",
      " - 0s - loss: 4.0399 - val_loss: 6.2762\n",
      "Epoch 51/200\n",
      " - 0s - loss: 4.0540 - val_loss: 6.4127\n",
      "Epoch 52/200\n",
      " - 0s - loss: 4.0687 - val_loss: 6.5570\n",
      "Epoch 53/200\n",
      " - 0s - loss: 4.0853 - val_loss: 6.7129\n",
      "Epoch 54/200\n",
      " - 0s - loss: 4.1044 - val_loss: 6.8713\n",
      "Epoch 55/200\n",
      " - 0s - loss: 4.1242 - val_loss: 7.0306\n",
      "Epoch 56/200\n",
      " - 0s - loss: 4.1452 - val_loss: 7.1886\n",
      "Epoch 57/200\n",
      " - 0s - loss: 4.1664 - val_loss: 7.3425\n",
      "Epoch 58/200\n",
      " - 0s - loss: 4.1885 - val_loss: 7.4858\n",
      "Epoch 59/200\n",
      " - 0s - loss: 4.2096 - val_loss: 7.6159\n",
      "Epoch 60/200\n",
      " - 0s - loss: 4.2304 - val_loss: 7.7279\n",
      "Epoch 61/200\n",
      " - 0s - loss: 4.2493 - val_loss: 7.8188\n",
      "Epoch 62/200\n",
      " - 0s - loss: 4.2672 - val_loss: 7.8883\n",
      "Epoch 63/200\n",
      " - 0s - loss: 4.2831 - val_loss: 7.9332\n",
      "Epoch 64/200\n",
      " - 0s - loss: 4.2965 - val_loss: 7.9487\n",
      "Epoch 65/200\n",
      " - 0s - loss: 4.3068 - val_loss: 7.9434\n",
      "Epoch 66/200\n",
      " - 0s - loss: 4.3150 - val_loss: 7.9148\n",
      "Epoch 67/200\n",
      " - 0s - loss: 4.3207 - val_loss: 7.8664\n",
      "Epoch 68/200\n",
      " - 0s - loss: 4.3234 - val_loss: 7.7978\n",
      "Epoch 69/200\n",
      " - 0s - loss: 4.3232 - val_loss: 7.7129\n",
      "Epoch 70/200\n",
      " - 0s - loss: 4.3202 - val_loss: 7.6194\n",
      "Epoch 71/200\n",
      " - 0s - loss: 4.3156 - val_loss: 7.5139\n",
      "Epoch 72/200\n",
      " - 0s - loss: 4.3086 - val_loss: 7.4000\n",
      "Epoch 73/200\n",
      " - 0s - loss: 4.2997 - val_loss: 7.2815\n",
      "Epoch 74/200\n",
      " - 0s - loss: 4.2890 - val_loss: 7.1573\n",
      "Epoch 75/200\n",
      " - 0s - loss: 4.2764 - val_loss: 7.0301\n",
      "Epoch 76/200\n",
      " - 0s - loss: 4.2621 - val_loss: 6.9047\n",
      "Epoch 77/200\n",
      " - 0s - loss: 4.2474 - val_loss: 6.7771\n",
      "Epoch 78/200\n",
      " - 0s - loss: 4.2306 - val_loss: 6.6466\n",
      "Epoch 79/200\n",
      " - 0s - loss: 4.2132 - val_loss: 6.5174\n",
      "Epoch 80/200\n",
      " - 0s - loss: 4.1950 - val_loss: 6.3915\n",
      "Epoch 81/200\n",
      " - 0s - loss: 4.1722 - val_loss: 6.4814\n",
      "Epoch 82/200\n",
      " - 0s - loss: 4.1677 - val_loss: 6.1741\n",
      "Epoch 83/200\n",
      " - 0s - loss: 4.1364 - val_loss: 6.0057\n",
      "Epoch 84/200\n",
      " - 0s - loss: 4.1119 - val_loss: 5.8727\n",
      "Epoch 85/200\n",
      " - 0s - loss: 4.0884 - val_loss: 5.7485\n",
      "Epoch 86/200\n",
      " - 0s - loss: 4.0649 - val_loss: 5.6324\n",
      "Epoch 87/200\n",
      " - 0s - loss: 4.0418 - val_loss: 5.5133\n",
      "Epoch 88/200\n",
      " - 0s - loss: 4.0178 - val_loss: 5.3967\n",
      "Epoch 89/200\n",
      " - 0s - loss: 3.9929 - val_loss: 5.2817\n",
      "Epoch 90/200\n",
      " - 0s - loss: 3.9674 - val_loss: 5.1733\n",
      "Epoch 91/200\n",
      " - 0s - loss: 3.9426 - val_loss: 5.0650\n",
      "Epoch 92/200\n",
      " - 0s - loss: 3.9168 - val_loss: 5.0052\n",
      "Epoch 93/200\n",
      " - 0s - loss: 3.9008 - val_loss: 5.2017\n",
      "Epoch 94/200\n",
      " - 0s - loss: 3.9239 - val_loss: 5.1817\n",
      "Epoch 95/200\n",
      " - 0s - loss: 3.9127 - val_loss: 5.0801\n",
      "Epoch 96/200\n",
      " - 0s - loss: 3.8893 - val_loss: 4.9804\n",
      "Epoch 97/200\n",
      " - 0s - loss: 3.8647 - val_loss: 4.8796\n",
      "Epoch 98/200\n",
      " - 0s - loss: 3.8387 - val_loss: 4.7821\n",
      "Epoch 99/200\n",
      " - 0s - loss: 3.8126 - val_loss: 4.6899\n",
      "Epoch 100/200\n",
      " - 0s - loss: 3.7875 - val_loss: 4.5969\n",
      "Epoch 101/200\n",
      " - 0s - loss: 3.7606 - val_loss: 4.5069\n",
      "Epoch 102/200\n",
      " - 0s - loss: 3.7342 - val_loss: 4.4226\n",
      "Epoch 103/200\n",
      " - 0s - loss: 3.7078 - val_loss: 4.3384\n",
      "Epoch 104/200\n",
      " - 0s - loss: 3.6814 - val_loss: 4.2597\n",
      "Epoch 105/200\n",
      " - 0s - loss: 3.6549 - val_loss: 4.1820\n",
      "Epoch 106/200\n",
      " - 0s - loss: 3.6286 - val_loss: 4.1094\n",
      "Epoch 107/200\n",
      " - 0s - loss: 3.6022 - val_loss: 4.0387\n",
      "Epoch 108/200\n",
      " - 0s - loss: 3.5766 - val_loss: 3.9718\n",
      "Epoch 109/200\n",
      " - 0s - loss: 3.5506 - val_loss: 3.9085\n",
      "Epoch 110/200\n",
      " - 0s - loss: 3.5258 - val_loss: 3.8483\n",
      "Epoch 111/200\n",
      " - 0s - loss: 3.5007 - val_loss: 3.7916\n",
      "Epoch 112/200\n",
      " - 0s - loss: 3.4770 - val_loss: 3.7383\n",
      "Epoch 113/200\n",
      " - 0s - loss: 3.4531 - val_loss: 3.6887\n",
      "Epoch 114/200\n",
      " - 0s - loss: 3.4305 - val_loss: 3.6421\n",
      "Epoch 115/200\n",
      " - 0s - loss: 3.4090 - val_loss: 3.5988\n",
      "Epoch 116/200\n",
      " - 0s - loss: 3.3885 - val_loss: 3.5549\n",
      "Epoch 117/200\n",
      " - 0s - loss: 3.3669 - val_loss: 3.5190\n",
      "Epoch 118/200\n",
      " - 0s - loss: 3.3491 - val_loss: 3.4815\n",
      "Epoch 119/200\n",
      " - 0s - loss: 3.3299 - val_loss: 3.4499\n",
      "Epoch 120/200\n",
      " - 0s - loss: 3.3134 - val_loss: 3.4177\n",
      "Epoch 121/200\n",
      " - 0s - loss: 3.2974 - val_loss: 3.3881\n",
      "Epoch 122/200\n",
      " - 0s - loss: 3.2820 - val_loss: 3.3606\n",
      "Epoch 123/200\n",
      " - 0s - loss: 3.2679 - val_loss: 3.3358\n",
      "Epoch 124/200\n",
      " - 0s - loss: 3.2557 - val_loss: 3.3102\n",
      "Epoch 125/200\n",
      " - 0s - loss: 3.2426 - val_loss: 3.2893\n",
      "Epoch 126/200\n",
      " - 0s - loss: 3.2322 - val_loss: 3.2675\n",
      "Epoch 127/200\n",
      " - 0s - loss: 3.2218 - val_loss: 3.2487\n",
      "Epoch 128/200\n",
      " - 0s - loss: 3.2133 - val_loss: 3.2290\n",
      "Epoch 129/200\n",
      " - 0s - loss: 3.2039 - val_loss: 3.2123\n",
      "Epoch 130/200\n",
      " - 0s - loss: 3.1973 - val_loss: 3.1958\n",
      "Epoch 131/200\n",
      " - 0s - loss: 3.1907 - val_loss: 3.1808\n",
      "Epoch 132/200\n",
      " - 0s - loss: 3.1857 - val_loss: 3.1652\n",
      "Epoch 133/200\n",
      " - 0s - loss: 3.1796 - val_loss: 3.1535\n",
      "Epoch 134/200\n",
      " - 0s - loss: 3.1765 - val_loss: 3.1403\n",
      "Epoch 135/200\n",
      " - 0s - loss: 3.1728 - val_loss: 3.1288\n",
      "Epoch 136/200\n",
      " - 0s - loss: 3.1708 - val_loss: 3.1179\n",
      "Epoch 137/200\n",
      " - 0s - loss: 3.1683 - val_loss: 3.1091\n",
      "Epoch 138/200\n",
      " - 0s - loss: 3.1679 - val_loss: 3.1006\n",
      "Epoch 139/200\n",
      " - 0s - loss: 3.1666 - val_loss: 3.0942\n",
      "Epoch 140/200\n",
      " - 0s - loss: 3.1689 - val_loss: 3.0855\n",
      "Epoch 141/200\n",
      " - 0s - loss: 3.1686 - val_loss: 3.0804\n",
      "Epoch 142/200\n",
      " - 0s - loss: 3.1703 - val_loss: 3.0739\n",
      "Epoch 143/200\n",
      " - 0s - loss: 3.1704 - val_loss: 3.0691\n",
      "Epoch 144/200\n",
      " - 0s - loss: 3.1732 - val_loss: 3.0645\n",
      "Epoch 145/200\n",
      " - 0s - loss: 3.1758 - val_loss: 3.0625\n",
      "Epoch 146/200\n",
      " - 0s - loss: 3.1793 - val_loss: 3.0579\n",
      "Epoch 147/200\n",
      " - 0s - loss: 3.1820 - val_loss: 3.0578\n",
      "Epoch 148/200\n",
      " - 0s - loss: 3.1857 - val_loss: 3.0569\n",
      "Epoch 149/200\n",
      " - 0s - loss: 3.1893 - val_loss: 3.0557\n",
      "Epoch 150/200\n",
      " - 0s - loss: 3.1945 - val_loss: 3.0563\n",
      "Epoch 151/200\n",
      " - 0s - loss: 3.1972 - val_loss: 3.0555\n",
      "Epoch 152/200\n",
      " - 0s - loss: 3.2024 - val_loss: 3.0616\n",
      "Epoch 153/200\n",
      " - 0s - loss: 3.2105 - val_loss: 3.0570\n"
     ]
    },
    {
     "name": "stdout",
     "output_type": "stream",
     "text": [
      "Epoch 154/200\n",
      " - 0s - loss: 3.2128 - val_loss: 3.0643\n",
      "Epoch 155/200\n",
      " - 0s - loss: 3.2179 - val_loss: 3.0634\n",
      "Epoch 156/200\n",
      " - 0s - loss: 3.2204 - val_loss: 3.0674\n",
      "Epoch 157/200\n",
      " - 0s - loss: 3.2267 - val_loss: 3.0679\n",
      "Epoch 158/200\n",
      " - 0s - loss: 3.2298 - val_loss: 3.0646\n",
      "Epoch 159/200\n",
      " - 0s - loss: 3.2343 - val_loss: 3.0726\n",
      "Epoch 160/200\n",
      " - 0s - loss: 3.2387 - val_loss: 3.0559\n",
      "Epoch 161/200\n",
      " - 0s - loss: 3.2384 - val_loss: 3.0751\n",
      "Epoch 162/200\n",
      " - 0s - loss: 3.2469 - val_loss: 3.0644\n",
      "Epoch 163/200\n",
      " - 0s - loss: 3.3010 - val_loss: 3.1371\n",
      "Epoch 164/200\n",
      " - 0s - loss: 3.3240 - val_loss: 3.0422\n",
      "Epoch 165/200\n",
      " - 0s - loss: 3.2615 - val_loss: 3.0530\n",
      "Epoch 166/200\n",
      " - 0s - loss: 3.2550 - val_loss: 3.0407\n",
      "Epoch 167/200\n",
      " - 0s - loss: 3.2453 - val_loss: 3.0399\n",
      "Epoch 168/200\n",
      " - 0s - loss: 3.2553 - val_loss: 3.0463\n",
      "Epoch 169/200\n",
      " - 0s - loss: 3.2593 - val_loss: 3.0416\n",
      "Epoch 170/200\n",
      " - 0s - loss: 3.2616 - val_loss: 3.0368\n",
      "Epoch 171/200\n",
      " - 0s - loss: 3.2621 - val_loss: 3.0256\n",
      "Epoch 172/200\n",
      " - 0s - loss: 3.2639 - val_loss: 3.0364\n",
      "Epoch 173/200\n",
      " - 0s - loss: 3.2680 - val_loss: 3.0205\n",
      "Epoch 174/200\n",
      " - 0s - loss: 3.2666 - val_loss: 3.0223\n",
      "Epoch 175/200\n",
      " - 0s - loss: 3.2691 - val_loss: 3.0031\n",
      "Epoch 176/200\n",
      " - 0s - loss: 3.2594 - val_loss: 3.0197\n",
      "Epoch 177/200\n",
      " - 0s - loss: 3.2721 - val_loss: 2.9973\n",
      "Epoch 178/200\n",
      " - 0s - loss: 3.2655 - val_loss: 2.9903\n",
      "Epoch 179/200\n",
      " - 0s - loss: 3.2719 - val_loss: 2.9794\n",
      "Epoch 180/200\n",
      " - 0s - loss: 3.2714 - val_loss: 2.9699\n",
      "Epoch 181/200\n",
      " - 0s - loss: 3.2709 - val_loss: 2.9800\n",
      "Epoch 182/200\n",
      " - 0s - loss: 3.2697 - val_loss: 2.9581\n",
      "Epoch 183/200\n",
      " - 0s - loss: 3.2654 - val_loss: 2.9442\n",
      "Epoch 184/200\n",
      " - 0s - loss: 3.2681 - val_loss: 2.9388\n",
      "Epoch 185/200\n",
      " - 0s - loss: 3.2709 - val_loss: 2.9264\n",
      "Epoch 186/200\n",
      " - 0s - loss: 3.2638 - val_loss: 2.9204\n",
      "Epoch 187/200\n",
      " - 0s - loss: 3.2663 - val_loss: 2.9226\n",
      "Epoch 188/200\n",
      " - 0s - loss: 3.2668 - val_loss: 2.8921\n",
      "Epoch 189/200\n",
      " - 0s - loss: 3.2612 - val_loss: 2.8957\n",
      "Epoch 190/200\n",
      " - 0s - loss: 3.2609 - val_loss: 2.8798\n",
      "Epoch 191/200\n",
      " - 0s - loss: 3.2536 - val_loss: 2.8760\n",
      "Epoch 192/200\n",
      " - 0s - loss: 3.2607 - val_loss: 2.8634\n",
      "Epoch 193/200\n",
      " - 0s - loss: 3.2584 - val_loss: 2.8495\n",
      "Epoch 194/200\n",
      " - 0s - loss: 3.2555 - val_loss: 2.8449\n",
      "Epoch 195/200\n",
      " - 0s - loss: 3.2485 - val_loss: 2.8418\n",
      "Epoch 196/200\n",
      " - 0s - loss: 3.2531 - val_loss: 2.8188\n",
      "Epoch 197/200\n",
      " - 0s - loss: 3.2475 - val_loss: 2.8189\n",
      "Epoch 198/200\n",
      " - 0s - loss: 3.2398 - val_loss: 2.8079\n",
      "Epoch 199/200\n",
      " - 0s - loss: 3.2429 - val_loss: 2.8064\n",
      "Epoch 200/200\n",
      " - 0s - loss: 3.2425 - val_loss: 2.7937\n"
     ]
    }
   ],
   "source": [
    "history=model.fit(X_train, y_train, epochs=200, verbose=2, validation_split=0.15, shuffle=False)"
   ]
  },
  {
   "cell_type": "code",
   "execution_count": 73,
   "metadata": {},
   "outputs": [],
   "source": [
    "mytime = time.strftime(\"%Y_%m_%d_%H_%M\")\n",
    "modname = 'CNN_uni_apple' + mytime "
   ]
  },
  {
   "cell_type": "code",
   "execution_count": 74,
   "metadata": {},
   "outputs": [],
   "source": [
    "#H:\\Dropbox\\python\\deep_learning_time_series_forecasting\\code\n",
    "with open('H:\\Dropbox\\python\\deep_learning_time_series_forecasting\\code\\histories\\\\'\n",
    "          + modname + '.pkl' , 'wb') as file_pi:\n",
    "    pickle.dump(history.history, file_pi)"
   ]
  },
  {
   "cell_type": "code",
   "execution_count": 77,
   "metadata": {},
   "outputs": [
    {
     "data": {
      "text/plain": [
       "(0, 10)"
      ]
     },
     "execution_count": 77,
     "metadata": {},
     "output_type": "execute_result"
    },
    {
     "data": {
      "image/png": "[encoded data removed]",
      "text/plain": [
       "<matplotlib.figure.Figure at 0x28dd5eb72e8>"
      ]
     },
     "metadata": {
      "needs_background": "light"
     },
     "output_type": "display_data"
    }
   ],
   "source": [
    "histories = ['CNN_uni_apple2019_01_25_14_36.pkl']\n",
    "plt.figure(figsize=(14,10))\n",
    "for val in histories:\n",
    "    with open('H:\\Dropbox\\python\\deep_learning_time_series_forecasting\\code\\histories\\\\' + val , 'rb') as file_pi:\n",
    "        thepickle = pickle.load(file_pi)\n",
    "        plt.plot(thepickle[\"loss\"],label ='loss_' + val,linestyle='--')\n",
    "        plt.plot(thepickle[\"val_loss\"],label='val_loss' + val)\n",
    "\n",
    "\n",
    "plt.legend()\n",
    "plt.ylim(0, 10)"
   ]
  },
  {
   "cell_type": "code",
   "execution_count": 78,
   "metadata": {},
   "outputs": [],
   "source": [
    "yhat = model.predict(X_test, verbose=2)"
   ]
  },
  {
   "cell_type": "code",
   "execution_count": 79,
   "metadata": {},
   "outputs": [
    {
     "data": {
      "text/plain": [
       "array([[ 175.01],\n",
       "       [ 175.01],\n",
       "       [ 170.57],\n",
       "       [ 170.6 ],\n",
       "       [ 171.08]])"
      ]
     },
     "execution_count": 79,
     "metadata": {},
     "output_type": "execute_result"
    }
   ],
   "source": [
    "X_test[-1]"
   ]
  },
  {
   "cell_type": "code",
   "execution_count": 81,
   "metadata": {},
   "outputs": [
    {
     "data": {
      "text/plain": [
       "[<matplotlib.lines.Line2D at 0x28dd5fa44a8>]"
      ]
     },
     "execution_count": 81,
     "metadata": {},
     "output_type": "execute_result"
    },
    {
     "data": {
      "image/png": "[encoded data removed]",
      "text/plain": [
       "<matplotlib.figure.Figure at 0x28dd5fadf60>"
      ]
     },
     "metadata": {
      "needs_background": "light"
     },
     "output_type": "display_data"
    }
   ],
   "source": [
    "plt.figure(figsize=(14,10))\n",
    "#plt.plot(raw_seq,label ='original' )\n",
    "plt.plot(yhat[:100],label ='prediction' ,linestyle='--')\n",
    "plt.plot(y_test[:100],label='real' )"
   ]
  },
  {
   "cell_type": "code",
   "execution_count": 82,
   "metadata": {},
   "outputs": [],
   "source": [
    "from sklearn.metrics import r2_score, mean_squared_error"
   ]
  },
  {
   "cell_type": "code",
   "execution_count": 83,
   "metadata": {},
   "outputs": [
    {
     "data": {
      "text/plain": [
       "0.98338964279342411"
      ]
     },
     "execution_count": 83,
     "metadata": {},
     "output_type": "execute_result"
    }
   ],
   "source": [
    "r2_score(y_test, yhat) "
   ]
  },
  {
   "cell_type": "code",
   "execution_count": 84,
   "metadata": {},
   "outputs": [
    {
     "data": {
      "text/plain": [
       "6.6259425488679131"
      ]
     },
     "execution_count": 84,
     "metadata": {},
     "output_type": "execute_result"
    }
   ],
   "source": [
    "mean_squared_error(y_test, yhat) "
   ]
  },
  {
   "cell_type": "code",
   "execution_count": 58,
   "metadata": {},
   "outputs": [
    {
     "data": {
      "text/plain": [
       "array([ 109.85614699,   75.49037212,  130.40911309,  122.50621944,\n",
       "        114.22775837,   86.78158692,  157.41      ,   93.79685334,\n",
       "         86.57451589,   55.78753337])"
      ]
     },
     "execution_count": 58,
     "metadata": {},
     "output_type": "execute_result"
    }
   ],
   "source": [
    "y_test[-10:]"
   ]
  },
  {
   "cell_type": "code",
   "execution_count": 43,
   "metadata": {},
   "outputs": [
    {
     "data": {
      "text/plain": [
       "array([ 114.22775837,   86.78158692,  157.41      ,   93.79685334,\n",
       "         86.57451589])"
      ]
     },
     "execution_count": 43,
     "metadata": {},
     "output_type": "execute_result"
    }
   ],
   "source": [
    "y_test[-6:-1]"
   ]
  },
  {
   "cell_type": "code",
   "execution_count": 44,
   "metadata": {},
   "outputs": [],
   "source": [
    "test=y_test[-6:-1]\n"
   ]
  },
  {
   "cell_type": "code",
   "execution_count": 49,
   "metadata": {},
   "outputs": [],
   "source": [
    "test=test.reshape(1,5,1)"
   ]
  },
  {
   "cell_type": "code",
   "execution_count": 52,
   "metadata": {},
   "outputs": [
    {
     "data": {
      "text/plain": [
       "array([[[ 114.22775837],\n",
       "        [  86.78158692],\n",
       "        [ 157.41      ],\n",
       "        [  93.79685334],\n",
       "        [  86.57451589]]])"
      ]
     },
     "execution_count": 52,
     "metadata": {},
     "output_type": "execute_result"
    }
   ],
   "source": [
    "test"
   ]
  },
  {
   "cell_type": "code",
   "execution_count": 53,
   "metadata": {},
   "outputs": [],
   "source": [
    "y = model.predict(test, verbose=2)"
   ]
  },
  {
   "cell_type": "code",
   "execution_count": 54,
   "metadata": {},
   "outputs": [
    {
     "data": {
      "text/plain": [
       "array([[ 102.55635834]], dtype=float32)"
      ]
     },
     "execution_count": 54,
     "metadata": {},
     "output_type": "execute_result"
    }
   ],
   "source": [
    "y"
   ]
  },
  {
   "cell_type": "code",
   "execution_count": null,
   "metadata": {},
   "outputs": [],
   "source": []
  }
 ],
 "metadata": {
  "kernelspec": {
   "display_name": "Python 3",
   "language": "python",
   "name": "python3"
  },
  "language_info": {
   "codemirror_mode": {
    "name": "ipython",
    "version": 3
   },
   "file_extension": ".py",
   "mimetype": "text/x-python",
   "name": "python",
   "nbconvert_exporter": "python",
   "pygments_lexer": "ipython3",
   "version": "3.6.7"
  }
 },
 "nbformat": 4,
 "nbformat_minor": 2
}
