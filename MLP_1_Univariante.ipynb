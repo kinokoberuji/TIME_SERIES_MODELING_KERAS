{
 "cells": [
  {
   "cell_type": "code",
   "execution_count": 67,
   "metadata": {},
   "outputs": [],
   "source": [
    "import numpy as np\n",
    "import pandas as pd\n",
    "import matplotlib.pyplot as plt\n",
    "%matplotlib inline\n",
    "import time\n",
    "import quandl\n",
    "import datetime\n",
    "from sklearn.preprocessing import  MinMaxScaler, StandardScaler\n",
    "from sklearn.model_selection import train_test_split\n",
    "\n",
    "# univariate mlp example\n",
    "from numpy import array\n",
    "from keras.models import Sequential\n",
    "from keras.layers import Dense\n",
    "import pickle\n",
    "\n",
    "from IPython.display import SVG\n",
    "from keras.utils.vis_utils import model_to_dot"
   ]
  },
  {
   "cell_type": "code",
   "execution_count": 68,
   "metadata": {},
   "outputs": [],
   "source": [
    "# split a univariate sequence into samples\n",
    "def split_sequence(sequence, n_steps):\n",
    "    X, y = list(), list()\n",
    "    for i in range(len(sequence)):\n",
    "        # find the end of this pattern\n",
    "        end_ix = i + n_steps\n",
    "        # check if we are beyond the sequence\n",
    "        if end_ix > len(sequence)-1:\n",
    "            break\n",
    "        # gather input and output parts of the pattern\n",
    "        seq_x, seq_y = sequence[i:end_ix], sequence[end_ix]\n",
    "        X.append(seq_x)\n",
    "        y.append(seq_y)\n",
    "    return array(X), array(y)"
   ]
  },
  {
   "cell_type": "code",
   "execution_count": 69,
   "metadata": {},
   "outputs": [
    {
     "name": "stdout",
     "output_type": "stream",
     "text": [
      "[[ 108.98381805]]\n"
     ]
    }
   ],
   "source": [
    "# define input sequence\n",
    "raw_seq = [10, 20, 30, 40, 50, 60, 70, 80, 90]\n",
    "# choose a number of time steps\n",
    "n_steps = 3\n",
    "# split into samples\n",
    "X, y = split_sequence(raw_seq, n_steps)\n",
    "# define model\n",
    "model = Sequential()\n",
    "model.add(Dense(100, activation='relu', input_dim=n_steps))\n",
    "model.add(Dense(1))\n",
    "model.compile(optimizer='adam', loss='mse')\n",
    "# fit model\n",
    "model.fit(X, y, epochs=200, verbose=0)\n",
    "# demonstrate prediction\n",
    "x_input = array([70, 80, 90])\n",
    "x_input = x_input.reshape((1, n_steps))\n",
    "yhat = model.predict(x_input, verbose=0)\n",
    "print(yhat)"
   ]
  },
  {
   "cell_type": "code",
   "execution_count": 70,
   "metadata": {},
   "outputs": [],
   "source": [
    "quandl.connection.ApiConfig.api_key= \"_N85bWLCNCWz14smKHSi\""
   ]
  },
  {
   "cell_type": "code",
   "execution_count": 71,
   "metadata": {},
   "outputs": [],
   "source": [
    "start = datetime.datetime(2012, 1, 1)\n",
    "end = datetime.datetime(2018, 1, 1)\n",
    "tesla = quandl.get('WIKI/TSLA',start_date=start,end_date=end)"
   ]
  },
  {
   "cell_type": "code",
   "execution_count": 72,
   "metadata": {},
   "outputs": [
    {
     "data": {
      "text/html": [
       "<div>\n",
       "<style scoped>\n",
       "    .dataframe tbody tr th:only-of-type {\n",
       "        vertical-align: middle;\n",
       "    }\n",
       "\n",
       "    .dataframe tbody tr th {\n",
       "        vertical-align: top;\n",
       "    }\n",
       "\n",
       "    .dataframe thead th {\n",
       "        text-align: right;\n",
       "    }\n",
       "</style>\n",
       "<table border=\"1\" class=\"dataframe\">\n",
       "  <thead>\n",
       "    <tr style=\"text-align: right;\">\n",
       "      <th></th>\n",
       "      <th>Open</th>\n",
       "      <th>High</th>\n",
       "      <th>Low</th>\n",
       "      <th>Close</th>\n",
       "      <th>Volume</th>\n",
       "      <th>Ex-Dividend</th>\n",
       "      <th>Split Ratio</th>\n",
       "      <th>Adj. Open</th>\n",
       "      <th>Adj. High</th>\n",
       "      <th>Adj. Low</th>\n",
       "      <th>Adj. Close</th>\n",
       "      <th>Adj. Volume</th>\n",
       "    </tr>\n",
       "    <tr>\n",
       "      <th>Date</th>\n",
       "      <th></th>\n",
       "      <th></th>\n",
       "      <th></th>\n",
       "      <th></th>\n",
       "      <th></th>\n",
       "      <th></th>\n",
       "      <th></th>\n",
       "      <th></th>\n",
       "      <th></th>\n",
       "      <th></th>\n",
       "      <th></th>\n",
       "      <th></th>\n",
       "    </tr>\n",
       "  </thead>\n",
       "  <tbody>\n",
       "    <tr>\n",
       "      <th>2017-12-27</th>\n",
       "      <td>316.00</td>\n",
       "      <td>317.68</td>\n",
       "      <td>310.75</td>\n",
       "      <td>311.64</td>\n",
       "      <td>4645441.0</td>\n",
       "      <td>0.0</td>\n",
       "      <td>1.0</td>\n",
       "      <td>316.00</td>\n",
       "      <td>317.68</td>\n",
       "      <td>310.75</td>\n",
       "      <td>311.64</td>\n",
       "      <td>4645441.0</td>\n",
       "    </tr>\n",
       "    <tr>\n",
       "      <th>2017-12-28</th>\n",
       "      <td>311.75</td>\n",
       "      <td>315.82</td>\n",
       "      <td>309.54</td>\n",
       "      <td>315.36</td>\n",
       "      <td>4294689.0</td>\n",
       "      <td>0.0</td>\n",
       "      <td>1.0</td>\n",
       "      <td>311.75</td>\n",
       "      <td>315.82</td>\n",
       "      <td>309.54</td>\n",
       "      <td>315.36</td>\n",
       "      <td>4294689.0</td>\n",
       "    </tr>\n",
       "    <tr>\n",
       "      <th>2017-12-29</th>\n",
       "      <td>316.18</td>\n",
       "      <td>316.41</td>\n",
       "      <td>310.00</td>\n",
       "      <td>311.35</td>\n",
       "      <td>3727621.0</td>\n",
       "      <td>0.0</td>\n",
       "      <td>1.0</td>\n",
       "      <td>316.18</td>\n",
       "      <td>316.41</td>\n",
       "      <td>310.00</td>\n",
       "      <td>311.35</td>\n",
       "      <td>3727621.0</td>\n",
       "    </tr>\n",
       "  </tbody>\n",
       "</table>\n",
       "</div>"
      ],
      "text/plain": [
       "              Open    High     Low   Close     Volume  Ex-Dividend  \\\n",
       "Date                                                                 \n",
       "2017-12-27  316.00  317.68  310.75  311.64  4645441.0          0.0   \n",
       "2017-12-28  311.75  315.82  309.54  315.36  4294689.0          0.0   \n",
       "2017-12-29  316.18  316.41  310.00  311.35  3727621.0          0.0   \n",
       "\n",
       "            Split Ratio  Adj. Open  Adj. High  Adj. Low  Adj. Close  \\\n",
       "Date                                                                  \n",
       "2017-12-27          1.0     316.00     317.68    310.75      311.64   \n",
       "2017-12-28          1.0     311.75     315.82    309.54      315.36   \n",
       "2017-12-29          1.0     316.18     316.41    310.00      311.35   \n",
       "\n",
       "            Adj. Volume  \n",
       "Date                     \n",
       "2017-12-27    4645441.0  \n",
       "2017-12-28    4294689.0  \n",
       "2017-12-29    3727621.0  "
      ]
     },
     "execution_count": 72,
     "metadata": {},
     "output_type": "execute_result"
    }
   ],
   "source": [
    "tesla.tail(3)"
   ]
  },
  {
   "cell_type": "code",
   "execution_count": 73,
   "metadata": {},
   "outputs": [],
   "source": [
    "raw_seq=tesla['Adj. Close'].values"
   ]
  },
  {
   "cell_type": "code",
   "execution_count": 74,
   "metadata": {},
   "outputs": [
    {
     "data": {
      "text/plain": [
       "(1508,)"
      ]
     },
     "execution_count": 74,
     "metadata": {},
     "output_type": "execute_result"
    }
   ],
   "source": [
    "raw_seq.shape"
   ]
  },
  {
   "cell_type": "code",
   "execution_count": 75,
   "metadata": {},
   "outputs": [],
   "source": [
    "Minmax= StandardScaler()"
   ]
  },
  {
   "cell_type": "code",
   "execution_count": 10,
   "metadata": {},
   "outputs": [],
   "source": [
    "data = Minmax.fit_transform(raw_seq.reshape(-1,1))"
   ]
  },
  {
   "cell_type": "code",
   "execution_count": 11,
   "metadata": {},
   "outputs": [
    {
     "data": {
      "text/plain": [
       "array([[-1.61303629],\n",
       "       [-1.61682651],\n",
       "       [-1.62287037],\n",
       "       ..., \n",
       "       [ 1.29170502],\n",
       "       [ 1.32981208],\n",
       "       [ 1.28873431]])"
      ]
     },
     "execution_count": 11,
     "metadata": {},
     "output_type": "execute_result"
    }
   ],
   "source": [
    "data"
   ]
  },
  {
   "cell_type": "code",
   "execution_count": 76,
   "metadata": {},
   "outputs": [],
   "source": [
    "X, y = split_sequence(raw_seq, n_steps)"
   ]
  },
  {
   "cell_type": "code",
   "execution_count": 77,
   "metadata": {},
   "outputs": [
    {
     "data": {
      "text/plain": [
       "((1505, 3), (1505, 3), (1505,), (1505,))"
      ]
     },
     "execution_count": 77,
     "metadata": {},
     "output_type": "execute_result"
    }
   ],
   "source": [
    "X.shape ,X.reshape(1505,3).shape, y.shape, y.reshape(1505).shape"
   ]
  },
  {
   "cell_type": "code",
   "execution_count": 78,
   "metadata": {},
   "outputs": [],
   "source": [
    "train_size = int(len(X) * 0.80)\n",
    "X_train, X_test = X[0:train_size], X[train_size:len(X)]\n",
    "y_train, y_test = y[0:train_size], y[train_size:len(X)]"
   ]
  },
  {
   "cell_type": "code",
   "execution_count": 79,
   "metadata": {},
   "outputs": [],
   "source": [
    "# define model\n",
    "model = Sequential()\n",
    "model.add(Dense(100, activation='relu', input_dim=n_steps))\n",
    "model.add(Dense(1))\n",
    "model.compile(optimizer='adam', loss='mse')"
   ]
  },
  {
   "cell_type": "code",
   "execution_count": 80,
   "metadata": {},
   "outputs": [
    {
     "name": "stdout",
     "output_type": "stream",
     "text": [
      "Train on 1023 samples, validate on 181 samples\n",
      "Epoch 1/200\n",
      " - 0s - loss: 9961.8083 - val_loss: 3649.9830\n",
      "Epoch 2/200\n",
      " - 0s - loss: 92.9572 - val_loss: 69.6276\n",
      "Epoch 3/200\n",
      " - 0s - loss: 49.5015 - val_loss: 47.7053\n",
      "Epoch 4/200\n",
      " - 0s - loss: 38.5054 - val_loss: 47.1923\n",
      "Epoch 5/200\n",
      " - 0s - loss: 36.3359 - val_loss: 47.1794\n",
      "Epoch 6/200\n",
      " - 0s - loss: 36.4907 - val_loss: 47.1694\n",
      "Epoch 7/200\n",
      " - 0s - loss: 36.2590 - val_loss: 47.0856\n",
      "Epoch 8/200\n",
      " - 0s - loss: 36.3518 - val_loss: 47.0586\n",
      "Epoch 9/200\n",
      " - 0s - loss: 36.2783 - val_loss: 46.9871\n",
      "Epoch 10/200\n",
      " - 0s - loss: 36.2999 - val_loss: 46.9377\n",
      "Epoch 11/200\n",
      " - 0s - loss: 36.2677 - val_loss: 46.8706\n",
      "Epoch 12/200\n",
      " - 0s - loss: 36.2619 - val_loss: 46.8080\n",
      "Epoch 13/200\n",
      " - 0s - loss: 36.2414 - val_loss: 46.7387\n",
      "Epoch 14/200\n",
      " - 0s - loss: 36.2262 - val_loss: 46.6681\n",
      "Epoch 15/200\n",
      " - 0s - loss: 36.2077 - val_loss: 46.5940\n",
      "Epoch 16/200\n",
      " - 0s - loss: 36.1894 - val_loss: 46.5172\n",
      "Epoch 17/200\n",
      " - 0s - loss: 36.1707 - val_loss: 46.4377\n",
      "Epoch 18/200\n",
      " - 0s - loss: 36.1520 - val_loss: 46.3556\n",
      "Epoch 19/200\n",
      " - 0s - loss: 36.1332 - val_loss: 46.2704\n",
      "Epoch 20/200\n",
      " - 0s - loss: 36.1148 - val_loss: 46.1825\n",
      "Epoch 21/200\n",
      " - 0s - loss: 36.0970 - val_loss: 46.0922\n",
      "Epoch 22/200\n",
      " - 0s - loss: 36.0797 - val_loss: 45.9996\n",
      "Epoch 23/200\n",
      " - 0s - loss: 36.0636 - val_loss: 45.9047\n",
      "Epoch 24/200\n",
      " - 0s - loss: 36.0487 - val_loss: 45.8076\n",
      "Epoch 25/200\n",
      " - 0s - loss: 36.0353 - val_loss: 45.7085\n",
      "Epoch 26/200\n",
      " - 0s - loss: 36.0237 - val_loss: 45.6076\n",
      "Epoch 27/200\n",
      " - 0s - loss: 36.0142 - val_loss: 45.5049\n",
      "Epoch 28/200\n",
      " - 0s - loss: 36.0071 - val_loss: 45.4007\n",
      "Epoch 29/200\n",
      " - 0s - loss: 36.0026 - val_loss: 45.2952\n",
      "Epoch 30/200\n",
      " - 0s - loss: 36.0011 - val_loss: 45.1886\n",
      "Epoch 31/200\n",
      " - 0s - loss: 36.0030 - val_loss: 45.0813\n",
      "Epoch 32/200\n",
      " - 0s - loss: 36.0083 - val_loss: 44.9737\n",
      "Epoch 33/200\n",
      " - 0s - loss: 36.0174 - val_loss: 44.8661\n",
      "Epoch 34/200\n",
      " - 0s - loss: 36.0305 - val_loss: 44.7591\n",
      "Epoch 35/200\n",
      " - 0s - loss: 36.0475 - val_loss: 44.6522\n",
      "Epoch 36/200\n",
      " - 0s - loss: 36.0686 - val_loss: 44.5470\n",
      "Epoch 37/200\n",
      " - 0s - loss: 36.0931 - val_loss: 44.4441\n",
      "Epoch 38/200\n",
      " - 0s - loss: 36.1204 - val_loss: 44.3439\n",
      "Epoch 39/200\n",
      " - 0s - loss: 36.1509 - val_loss: 44.2483\n",
      "Epoch 40/200\n",
      " - 0s - loss: 36.1839 - val_loss: 44.1581\n",
      "Epoch 41/200\n",
      " - 0s - loss: 36.2178 - val_loss: 44.0739\n",
      "Epoch 42/200\n",
      " - 0s - loss: 36.2498 - val_loss: 43.9957\n",
      "Epoch 43/200\n",
      " - 0s - loss: 36.2785 - val_loss: 43.9222\n",
      "Epoch 44/200\n",
      " - 0s - loss: 36.3028 - val_loss: 43.8506\n",
      "Epoch 45/200\n",
      " - 0s - loss: 36.3184 - val_loss: 43.7854\n",
      "Epoch 46/200\n",
      " - 0s - loss: 36.3211 - val_loss: 43.7256\n",
      "Epoch 47/200\n",
      " - 0s - loss: 36.3047 - val_loss: 43.6553\n",
      "Epoch 48/200\n",
      " - 0s - loss: 36.2507 - val_loss: 43.5360\n",
      "Epoch 49/200\n",
      " - 0s - loss: 36.1384 - val_loss: 43.3093\n",
      "Epoch 50/200\n",
      " - 0s - loss: 35.8899 - val_loss: 42.8398\n",
      "Epoch 51/200\n",
      " - 0s - loss: 35.5199 - val_loss: 42.5305\n",
      "Epoch 52/200\n",
      " - 0s - loss: 35.2425 - val_loss: 42.4609\n",
      "Epoch 53/200\n",
      " - 0s - loss: 35.0175 - val_loss: 42.3909\n",
      "Epoch 54/200\n",
      " - 0s - loss: 34.7826 - val_loss: 42.2971\n",
      "Epoch 55/200\n",
      " - 0s - loss: 34.5333 - val_loss: 42.1766\n",
      "Epoch 56/200\n",
      " - 0s - loss: 34.2703 - val_loss: 42.0248\n",
      "Epoch 57/200\n",
      " - 0s - loss: 33.9964 - val_loss: 41.8456\n",
      "Epoch 58/200\n",
      " - 0s - loss: 33.7202 - val_loss: 41.6425\n",
      "Epoch 59/200\n",
      " - 0s - loss: 33.4494 - val_loss: 41.4165\n",
      "Epoch 60/200\n",
      " - 0s - loss: 33.1868 - val_loss: 41.1742\n",
      "Epoch 61/200\n",
      " - 0s - loss: 32.9377 - val_loss: 40.9221\n",
      "Epoch 62/200\n",
      " - 0s - loss: 32.7060 - val_loss: 40.6653\n",
      "Epoch 63/200\n",
      " - 0s - loss: 32.4919 - val_loss: 40.4115\n",
      "Epoch 64/200\n",
      " - 0s - loss: 32.2982 - val_loss: 40.1656\n",
      "Epoch 65/200\n",
      " - 0s - loss: 32.1239 - val_loss: 39.9303\n",
      "Epoch 66/200\n",
      " - 0s - loss: 31.9667 - val_loss: 39.7070\n",
      "Epoch 67/200\n",
      " - 0s - loss: 31.8246 - val_loss: 39.4956\n",
      "Epoch 68/200\n",
      " - 0s - loss: 31.6950 - val_loss: 39.2954\n",
      "Epoch 69/200\n",
      " - 0s - loss: 31.5757 - val_loss: 39.1056\n",
      "Epoch 70/200\n",
      " - 0s - loss: 31.4655 - val_loss: 38.9249\n",
      "Epoch 71/200\n",
      " - 0s - loss: 31.3619 - val_loss: 38.7520\n",
      "Epoch 72/200\n",
      " - 0s - loss: 31.2638 - val_loss: 38.5860\n",
      "Epoch 73/200\n",
      " - 0s - loss: 31.1720 - val_loss: 38.4259\n",
      "Epoch 74/200\n",
      " - 0s - loss: 31.0823 - val_loss: 38.2701\n",
      "Epoch 75/200\n",
      " - 0s - loss: 30.9963 - val_loss: 38.1188\n",
      "Epoch 76/200\n",
      " - 0s - loss: 30.9129 - val_loss: 37.9711\n",
      "Epoch 77/200\n",
      " - 0s - loss: 30.8316 - val_loss: 37.8264\n",
      "Epoch 78/200\n",
      " - 0s - loss: 30.7523 - val_loss: 37.6845\n",
      "Epoch 79/200\n",
      " - 0s - loss: 30.6753 - val_loss: 37.5451\n",
      "Epoch 80/200\n",
      " - 0s - loss: 30.5989 - val_loss: 37.4079\n",
      "Epoch 81/200\n",
      " - 0s - loss: 30.5244 - val_loss: 37.2726\n",
      "Epoch 82/200\n",
      " - 0s - loss: 30.4514 - val_loss: 37.1391\n",
      "Epoch 83/200\n",
      " - 0s - loss: 30.3797 - val_loss: 37.0073\n",
      "Epoch 84/200\n",
      " - 0s - loss: 30.3093 - val_loss: 36.8772\n",
      "Epoch 85/200\n",
      " - 0s - loss: 30.2403 - val_loss: 36.7486\n",
      "Epoch 86/200\n",
      " - 0s - loss: 30.1726 - val_loss: 36.6215\n",
      "Epoch 87/200\n",
      " - 0s - loss: 30.1065 - val_loss: 36.4959\n",
      "Epoch 88/200\n",
      " - 0s - loss: 30.0417 - val_loss: 36.3717\n",
      "Epoch 89/200\n",
      " - 0s - loss: 29.9784 - val_loss: 36.2491\n",
      "Epoch 90/200\n",
      " - 0s - loss: 29.9167 - val_loss: 36.1280\n",
      "Epoch 91/200\n",
      " - 0s - loss: 29.8566 - val_loss: 36.0084\n",
      "Epoch 92/200\n",
      " - 0s - loss: 29.7982 - val_loss: 35.8904\n",
      "Epoch 93/200\n",
      " - 0s - loss: 29.7416 - val_loss: 35.7741\n",
      "Epoch 94/200\n",
      " - 0s - loss: 29.6868 - val_loss: 35.6594\n",
      "Epoch 95/200\n",
      " - 0s - loss: 29.6341 - val_loss: 35.5465\n",
      "Epoch 96/200\n",
      " - 0s - loss: 29.5835 - val_loss: 35.4355\n",
      "Epoch 97/200\n",
      " - 0s - loss: 29.5349 - val_loss: 35.3263\n",
      "Epoch 98/200\n",
      " - 0s - loss: 29.4889 - val_loss: 35.2191\n",
      "Epoch 99/200\n",
      " - 0s - loss: 29.4452 - val_loss: 35.1139\n",
      "Epoch 100/200\n",
      " - 0s - loss: 29.4042 - val_loss: 35.0108\n",
      "Epoch 101/200\n",
      " - 0s - loss: 29.3659 - val_loss: 34.9099\n",
      "Epoch 102/200\n",
      " - 0s - loss: 29.3305 - val_loss: 34.8113\n",
      "Epoch 103/200\n",
      " - 0s - loss: 29.2982 - val_loss: 34.7150\n",
      "Epoch 104/200\n",
      " - 0s - loss: 29.2691 - val_loss: 34.6211\n",
      "Epoch 105/200\n",
      " - 0s - loss: 29.2435 - val_loss: 34.5297\n",
      "Epoch 106/200\n",
      " - 0s - loss: 29.2215 - val_loss: 34.4409\n",
      "Epoch 107/200\n",
      " - 0s - loss: 29.2032 - val_loss: 34.3545\n",
      "Epoch 108/200\n",
      " - 0s - loss: 29.1891 - val_loss: 34.2709\n",
      "Epoch 109/200\n",
      " - 0s - loss: 29.1790 - val_loss: 34.1899\n",
      "Epoch 110/200\n",
      " - 0s - loss: 29.1735 - val_loss: 34.1116\n",
      "Epoch 111/200\n",
      " - 0s - loss: 29.1725 - val_loss: 34.0360\n",
      "Epoch 112/200\n",
      " - 0s - loss: 29.1759 - val_loss: 33.9629\n",
      "Epoch 113/200\n",
      " - 0s - loss: 29.1852 - val_loss: 33.8931\n",
      "Epoch 114/200\n",
      " - 0s - loss: 29.1987 - val_loss: 33.8251\n",
      "Epoch 115/200\n",
      " - 0s - loss: 29.2183 - val_loss: 33.7602\n",
      "Epoch 116/200\n",
      " - 0s - loss: 29.2417 - val_loss: 33.6969\n",
      "Epoch 117/200\n",
      " - 0s - loss: 29.2725 - val_loss: 33.6376\n",
      "Epoch 118/200\n",
      " - 0s - loss: 29.3072 - val_loss: 33.5792\n",
      "Epoch 119/200\n",
      " - 0s - loss: 29.3481 - val_loss: 33.5236\n",
      "Epoch 120/200\n",
      " - 0s - loss: 29.3945 - val_loss: 33.4703\n",
      "Epoch 121/200\n",
      " - 0s - loss: 29.4442 - val_loss: 33.4172\n",
      "Epoch 122/200\n",
      " - 0s - loss: 29.5011 - val_loss: 33.3680\n",
      "Epoch 123/200\n",
      " - 0s - loss: 29.5618 - val_loss: 33.3197\n",
      "Epoch 124/200\n",
      " - 0s - loss: 29.6247 - val_loss: 33.2711\n",
      "Epoch 125/200\n",
      " - 0s - loss: 29.6937 - val_loss: 33.2259\n",
      "Epoch 126/200\n",
      " - 0s - loss: 29.7651 - val_loss: 33.1815\n",
      "Epoch 127/200\n",
      " - 0s - loss: 29.8365 - val_loss: 33.1356\n",
      "Epoch 128/200\n",
      " - 0s - loss: 29.9131 - val_loss: 33.0939\n",
      "Epoch 129/200\n",
      " - 0s - loss: 29.9865 - val_loss: 33.0492\n",
      "Epoch 130/200\n",
      " - 0s - loss: 30.0635 - val_loss: 33.0084\n",
      "Epoch 131/200\n",
      " - 0s - loss: 30.1368 - val_loss: 32.9655\n",
      "Epoch 132/200\n",
      " - 0s - loss: 30.2094 - val_loss: 32.9236\n",
      "Epoch 133/200\n",
      " - 0s - loss: 30.2785 - val_loss: 32.8808\n",
      "Epoch 134/200\n",
      " - 0s - loss: 30.3473 - val_loss: 32.8410\n",
      "Epoch 135/200\n",
      " - 0s - loss: 30.4092 - val_loss: 32.7985\n",
      "Epoch 136/200\n",
      " - 0s - loss: 30.4680 - val_loss: 32.7567\n",
      "Epoch 137/200\n",
      " - 0s - loss: 30.5222 - val_loss: 32.7152\n",
      "Epoch 138/200\n",
      " - 0s - loss: 30.5714 - val_loss: 32.6734\n",
      "Epoch 139/200\n",
      " - 0s - loss: 30.6156 - val_loss: 32.6317\n",
      "Epoch 140/200\n",
      " - 0s - loss: 30.6547 - val_loss: 32.5899\n",
      "Epoch 141/200\n",
      " - 0s - loss: 30.6887 - val_loss: 32.5483\n",
      "Epoch 142/200\n",
      " - 0s - loss: 30.7176 - val_loss: 32.5065\n",
      "Epoch 143/200\n",
      " - 0s - loss: 30.7418 - val_loss: 32.4648\n",
      "Epoch 144/200\n",
      " - 0s - loss: 30.7616 - val_loss: 32.4234\n",
      "Epoch 145/200\n",
      " - 0s - loss: 30.7773 - val_loss: 32.3820\n",
      "Epoch 146/200\n",
      " - 0s - loss: 30.7889 - val_loss: 32.3409\n",
      "Epoch 147/200\n",
      " - 0s - loss: 30.7971 - val_loss: 32.3001\n",
      "Epoch 148/200\n",
      " - 0s - loss: 30.8020 - val_loss: 32.2596\n"
     ]
    },
    {
     "name": "stdout",
     "output_type": "stream",
     "text": [
      "Epoch 149/200\n",
      " - 0s - loss: 30.8042 - val_loss: 32.2194\n",
      "Epoch 150/200\n",
      " - 0s - loss: 30.8036 - val_loss: 32.1797\n",
      "Epoch 151/200\n",
      " - 0s - loss: 30.8009 - val_loss: 32.1404\n",
      "Epoch 152/200\n",
      " - 0s - loss: 30.7960 - val_loss: 32.1022\n",
      "Epoch 153/200\n",
      " - 0s - loss: 30.7875 - val_loss: 32.0615\n",
      "Epoch 154/200\n",
      " - 0s - loss: 30.7821 - val_loss: 32.0252\n",
      "Epoch 155/200\n",
      " - 0s - loss: 30.7735 - val_loss: 31.9885\n",
      "Epoch 156/200\n",
      " - 0s - loss: 30.7631 - val_loss: 31.9519\n",
      "Epoch 157/200\n",
      " - 0s - loss: 30.7518 - val_loss: 31.9159\n",
      "Epoch 158/200\n",
      " - 0s - loss: 30.7397 - val_loss: 31.8803\n",
      "Epoch 159/200\n",
      " - 0s - loss: 30.7271 - val_loss: 31.8456\n",
      "Epoch 160/200\n",
      " - 0s - loss: 30.7139 - val_loss: 31.8113\n",
      "Epoch 161/200\n",
      " - 0s - loss: 30.7003 - val_loss: 31.7777\n",
      "Epoch 162/200\n",
      " - 0s - loss: 30.6865 - val_loss: 31.7447\n",
      "Epoch 163/200\n",
      " - 0s - loss: 30.6724 - val_loss: 31.7123\n",
      "Epoch 164/200\n",
      " - 0s - loss: 30.6581 - val_loss: 31.6805\n",
      "Epoch 165/200\n",
      " - 0s - loss: 30.6438 - val_loss: 31.6494\n",
      "Epoch 166/200\n",
      " - 0s - loss: 30.6296 - val_loss: 31.6192\n",
      "Epoch 167/200\n",
      " - 0s - loss: 30.6160 - val_loss: 31.5902\n",
      "Epoch 168/200\n",
      " - 0s - loss: 30.6020 - val_loss: 31.5615\n",
      "Epoch 169/200\n",
      " - 0s - loss: 30.5867 - val_loss: 31.5322\n",
      "Epoch 170/200\n",
      " - 0s - loss: 30.5720 - val_loss: 31.5040\n",
      "Epoch 171/200\n",
      " - 0s - loss: 30.5574 - val_loss: 31.4772\n",
      "Epoch 172/200\n",
      " - 0s - loss: 30.5408 - val_loss: 31.4475\n",
      "Epoch 173/200\n",
      " - 0s - loss: 30.5287 - val_loss: 31.4225\n",
      "Epoch 174/200\n",
      " - 0s - loss: 30.5139 - val_loss: 31.3954\n",
      "Epoch 175/200\n",
      " - 0s - loss: 30.5001 - val_loss: 31.3700\n",
      "Epoch 176/200\n",
      " - 0s - loss: 30.4882 - val_loss: 31.3462\n",
      "Epoch 177/200\n",
      " - 0s - loss: 30.4751 - val_loss: 31.3223\n",
      "Epoch 178/200\n",
      " - 0s - loss: 30.4612 - val_loss: 31.2982\n",
      "Epoch 179/200\n",
      " - 0s - loss: 30.4391 - val_loss: 31.2636\n",
      "Epoch 180/200\n",
      " - 0s - loss: 30.4344 - val_loss: 31.2491\n",
      "Epoch 181/200\n",
      " - 0s - loss: 30.4163 - val_loss: 31.2168\n",
      "Epoch 182/200\n",
      " - 0s - loss: 30.4149 - val_loss: 31.2061\n",
      "Epoch 183/200\n",
      " - 0s - loss: 30.3957 - val_loss: 31.1762\n",
      "Epoch 184/200\n",
      " - 0s - loss: 30.3904 - val_loss: 31.1630\n",
      "Epoch 185/200\n",
      " - 0s - loss: 30.3723 - val_loss: 31.1337\n",
      "Epoch 186/200\n",
      " - 0s - loss: 30.3698 - val_loss: 31.1236\n",
      "Epoch 187/200\n",
      " - 0s - loss: 30.3599 - val_loss: 31.1054\n",
      "Epoch 188/200\n",
      " - 0s - loss: 30.3395 - val_loss: 31.0750\n",
      "Epoch 189/200\n",
      " - 0s - loss: 30.3350 - val_loss: 31.0635\n",
      "Epoch 190/200\n",
      " - 0s - loss: 30.3191 - val_loss: 31.0371\n",
      "Epoch 191/200\n",
      " - 0s - loss: 30.3154 - val_loss: 31.0277\n",
      "Epoch 192/200\n",
      " - 0s - loss: 30.2974 - val_loss: 30.9993\n",
      "Epoch 193/200\n",
      " - 0s - loss: 30.2957 - val_loss: 30.9911\n",
      "Epoch 194/200\n",
      " - 0s - loss: 30.2807 - val_loss: 30.9659\n",
      "Epoch 195/200\n",
      " - 0s - loss: 30.2714 - val_loss: 30.9485\n",
      "Epoch 196/200\n",
      " - 0s - loss: 30.2696 - val_loss: 30.9414\n",
      "Epoch 197/200\n",
      " - 0s - loss: 30.2531 - val_loss: 30.9170\n",
      "Epoch 198/200\n",
      " - 0s - loss: 30.2491 - val_loss: 30.9088\n",
      "Epoch 199/200\n",
      " - 0s - loss: 30.2328 - val_loss: 30.8849\n",
      "Epoch 200/200\n",
      " - 0s - loss: 30.2292 - val_loss: 30.8772\n"
     ]
    }
   ],
   "source": [
    "history=model.fit(X_train, y_train, epochs=200, verbose=2, validation_split=0.15, shuffle=False)"
   ]
  },
  {
   "cell_type": "code",
   "execution_count": 81,
   "metadata": {},
   "outputs": [
    {
     "data": {
      "image/svg+xml": [
       "<svg height=\"191pt\" viewBox=\"0.00 0.00 119.00 191.00\" width=\"119pt\" xmlns=\"http://www.w3.org/2000/svg\" xmlns:xlink=\"http://www.w3.org/1999/xlink\">\n",
       "<g class=\"graph\" id=\"graph0\" transform=\"scale(1 1) rotate(0) translate(4 187)\">\n",
       "<title>G</title>\n",
       "<polygon fill=\"white\" points=\"-4,4 -4,-187 115,-187 115,4 -4,4\" stroke=\"none\"/>\n",
       "<!-- 2243694430192 -->\n",
       "<g class=\"node\" id=\"node1\"><title>2243694430192</title>\n",
       "<polygon fill=\"none\" points=\"3.5,-73.5 3.5,-109.5 107.5,-109.5 107.5,-73.5 3.5,-73.5\" stroke=\"black\"/>\n",
       "<text font-family=\"Times New Roman,serif\" font-size=\"14.00\" text-anchor=\"middle\" x=\"55.5\" y=\"-87.8\">dense_9: Dense</text>\n",
       "</g>\n",
       "<!-- 2243689605944 -->\n",
       "<g class=\"node\" id=\"node2\"><title>2243689605944</title>\n",
       "<polygon fill=\"none\" points=\"0,-0.5 0,-36.5 111,-36.5 111,-0.5 0,-0.5\" stroke=\"black\"/>\n",
       "<text font-family=\"Times New Roman,serif\" font-size=\"14.00\" text-anchor=\"middle\" x=\"55.5\" y=\"-14.8\">dense_10: Dense</text>\n",
       "</g>\n",
       "<!-- 2243694430192&#45;&gt;2243689605944 -->\n",
       "<g class=\"edge\" id=\"edge2\"><title>2243694430192-&gt;2243689605944</title>\n",
       "<path d=\"M55.5,-73.3129C55.5,-65.2895 55.5,-55.5475 55.5,-46.5691\" fill=\"none\" stroke=\"black\"/>\n",
       "<polygon fill=\"black\" points=\"59.0001,-46.5288 55.5,-36.5288 52.0001,-46.5289 59.0001,-46.5288\" stroke=\"black\"/>\n",
       "</g>\n",
       "<!-- 2243694430752 -->\n",
       "<g class=\"node\" id=\"node3\"><title>2243694430752</title>\n",
       "<polygon fill=\"none\" points=\"3.5,-146.5 3.5,-182.5 107.5,-182.5 107.5,-146.5 3.5,-146.5\" stroke=\"black\"/>\n",
       "<text font-family=\"Times New Roman,serif\" font-size=\"14.00\" text-anchor=\"middle\" x=\"55.5\" y=\"-160.8\">2243694430752</text>\n",
       "</g>\n",
       "<!-- 2243694430752&#45;&gt;2243694430192 -->\n",
       "<g class=\"edge\" id=\"edge1\"><title>2243694430752-&gt;2243694430192</title>\n",
       "<path d=\"M55.5,-146.313C55.5,-138.289 55.5,-128.547 55.5,-119.569\" fill=\"none\" stroke=\"black\"/>\n",
       "<polygon fill=\"black\" points=\"59.0001,-119.529 55.5,-109.529 52.0001,-119.529 59.0001,-119.529\" stroke=\"black\"/>\n",
       "</g>\n",
       "</g>\n",
       "</svg>"
      ],
      "text/plain": [
       "<IPython.core.display.SVG object>"
      ]
     },
     "execution_count": 81,
     "metadata": {},
     "output_type": "execute_result"
    }
   ],
   "source": [
    "SVG(model_to_dot(model).create(prog='dot', format='svg'))"
   ]
  },
  {
   "cell_type": "code",
   "execution_count": 82,
   "metadata": {},
   "outputs": [],
   "source": [
    "mytime = time.strftime(\"%Y_%m_%d_%H_%M\")\n",
    "modname = 'MLP_uni_tesla' + mytime "
   ]
  },
  {
   "cell_type": "code",
   "execution_count": 83,
   "metadata": {},
   "outputs": [],
   "source": [
    "#H:\\Dropbox\\python\\deep_learning_time_series_forecasting\\code\n",
    "with open('H:\\Dropbox\\python\\deep_learning_time_series_forecasting\\code\\histories\\\\'\n",
    "          + modname + '.pkl' , 'wb') as file_pi:\n",
    "    pickle.dump(history.history, file_pi)"
   ]
  },
  {
   "cell_type": "code",
   "execution_count": 84,
   "metadata": {},
   "outputs": [
    {
     "data": {
      "text/plain": [
       "(0, 100)"
      ]
     },
     "execution_count": 84,
     "metadata": {},
     "output_type": "execute_result"
    },
    {
     "data": {
      "image/png": "[encoded data removed]",
      "text/plain": [
       "<matplotlib.figure.Figure at 0x20a65de80b8>"
      ]
     },
     "metadata": {
      "needs_background": "light"
     },
     "output_type": "display_data"
    }
   ],
   "source": [
    "histories = ['MLP_uni_tesla2019_01_25_14_39.pkl']\n",
    "plt.figure(figsize=(14,10))\n",
    "for val in histories:\n",
    "    with open('H:\\Dropbox\\python\\deep_learning_time_series_forecasting\\code\\histories\\\\' + val , 'rb') as file_pi:\n",
    "        thepickle = pickle.load(file_pi)\n",
    "        plt.plot(thepickle[\"loss\"],label ='loss_' + val,linestyle='--')\n",
    "        plt.plot(thepickle[\"val_loss\"],label='val_loss' + val)\n",
    "\n",
    "\n",
    "plt.legend()\n",
    "plt.ylim(0, 100)"
   ]
  },
  {
   "cell_type": "code",
   "execution_count": 85,
   "metadata": {},
   "outputs": [],
   "source": [
    "yhat = model.predict(X_test, verbose=2)"
   ]
  },
  {
   "cell_type": "code",
   "execution_count": 87,
   "metadata": {},
   "outputs": [
    {
     "data": {
      "text/plain": [
       "array([ 317.29,  311.64,  315.36])"
      ]
     },
     "execution_count": 87,
     "metadata": {},
     "output_type": "execute_result"
    }
   ],
   "source": [
    "X_test[-1]"
   ]
  },
  {
   "cell_type": "code",
   "execution_count": 25,
   "metadata": {},
   "outputs": [],
   "source": [
    "#ypred=Minmax.inverse_transform(yhat)\n",
    "#yreal=Minmax.inverse_transform(y_test.reshape(301,1))"
   ]
  },
  {
   "cell_type": "code",
   "execution_count": 88,
   "metadata": {},
   "outputs": [
    {
     "data": {
      "text/plain": [
       "[<matplotlib.lines.Line2D at 0x20a67daac18>]"
      ]
     },
     "execution_count": 88,
     "metadata": {},
     "output_type": "execute_result"
    },
    {
     "data": {
      "image/png": "[encoded data removed]",
      "text/plain": [
       "<matplotlib.figure.Figure at 0x20a67ed2828>"
      ]
     },
     "metadata": {
      "needs_background": "light"
     },
     "output_type": "display_data"
    }
   ],
   "source": [
    "plt.figure(figsize=(14,10))\n",
    "#plt.plot(raw_seq,label ='original' )\n",
    "plt.plot(yhat,label ='prediction' ,linestyle='--')\n",
    "plt.plot(y_test,label='real' )"
   ]
  },
  {
   "cell_type": "code",
   "execution_count": 89,
   "metadata": {},
   "outputs": [],
   "source": [
    "from sklearn.metrics import r2_score, mean_squared_error"
   ]
  },
  {
   "cell_type": "code",
   "execution_count": 90,
   "metadata": {},
   "outputs": [
    {
     "data": {
      "text/plain": [
       "0.98624953251960079"
      ]
     },
     "execution_count": 90,
     "metadata": {},
     "output_type": "execute_result"
    }
   ],
   "source": [
    "r2_score(y_test, yhat) "
   ]
  },
  {
   "cell_type": "code",
   "execution_count": 91,
   "metadata": {},
   "outputs": [
    {
     "data": {
      "text/plain": [
       "46.492745654556487"
      ]
     },
     "execution_count": 91,
     "metadata": {},
     "output_type": "execute_result"
    }
   ],
   "source": [
    "mean_squared_error(y_test, yhat) "
   ]
  },
  {
   "cell_type": "code",
   "execution_count": 92,
   "metadata": {},
   "outputs": [],
   "source": [
    "test=y_test[-4:-1]"
   ]
  },
  {
   "cell_type": "code",
   "execution_count": 93,
   "metadata": {},
   "outputs": [
    {
     "data": {
      "text/plain": [
       "array([ 317.29,  311.64,  315.36])"
      ]
     },
     "execution_count": 93,
     "metadata": {},
     "output_type": "execute_result"
    }
   ],
   "source": [
    "test"
   ]
  },
  {
   "cell_type": "code",
   "execution_count": 94,
   "metadata": {},
   "outputs": [
    {
     "data": {
      "text/plain": [
       "array([ 325.2 ,  317.29,  311.64,  315.36,  311.35])"
      ]
     },
     "execution_count": 94,
     "metadata": {},
     "output_type": "execute_result"
    }
   ],
   "source": [
    "y_test[-5:]"
   ]
  },
  {
   "cell_type": "code",
   "execution_count": 96,
   "metadata": {},
   "outputs": [],
   "source": [
    "test=test.reshape(1,3)"
   ]
  },
  {
   "cell_type": "code",
   "execution_count": 97,
   "metadata": {},
   "outputs": [],
   "source": [
    "y = model.predict(test, verbose=2)"
   ]
  },
  {
   "cell_type": "code",
   "execution_count": 98,
   "metadata": {},
   "outputs": [
    {
     "data": {
      "text/plain": [
       "array([[ 316.6600647]], dtype=float32)"
      ]
     },
     "execution_count": 98,
     "metadata": {},
     "output_type": "execute_result"
    }
   ],
   "source": [
    "y\n"
   ]
  },
  {
   "cell_type": "code",
   "execution_count": null,
   "metadata": {},
   "outputs": [],
   "source": []
  }
 ],
 "metadata": {
  "kernelspec": {
   "display_name": "Python 3",
   "language": "python",
   "name": "python3"
  },
  "language_info": {
   "codemirror_mode": {
    "name": "ipython",
    "version": 3
   },
   "file_extension": ".py",
   "mimetype": "text/x-python",
   "name": "python",
   "nbconvert_exporter": "python",
   "pygments_lexer": "ipython3",
   "version": "3.6.7"
  }
 },
 "nbformat": 4,
 "nbformat_minor": 2
}
